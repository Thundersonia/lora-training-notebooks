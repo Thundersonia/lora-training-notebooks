{
 "cells": [
  {
   "cell_type": "markdown",
   "id": "c50bc022",
   "metadata": {},
   "source": [
    "# LoRA トレーニング Notebook\n",
    "\n",
    "このノートブックは LoRA ファインチューニングを実行し、生成された重みを保存、さらに推論テストを行うためのものです。以下の手順に従ってセルを順次実行してください。"
   ]
  },
  {
   "cell_type": "markdown",
   "id": "7c1825b2",
   "metadata": {},
   "source": [
    "## 1. ランタイム設定\n",
    "上部メニュー → ランタイム → ランタイムのタイプを変更 → ハードウェア アクセラレータ：**GPU** を選択"
   ]
  },
  {
   "cell_type": "code",
   "execution_count": null,
   "id": "0129fd51",
   "metadata": {},
   "outputs": [],
   "source": [
    "from google.colab import drive\n",
    "drive.mount('/content/drive')"
   ]
  },
  {
   "cell_type": "code",
   "execution_count": null,
   "id": "17054410",
   "metadata": {},
   "outputs": [],
   "source": [
    "!pip install diffusers transformers accelerate peft safetensors"
   ]
  },
  {
   "cell_type": "code",
   "execution_count": null,
   "id": "01f348a6",
   "metadata": {},
   "outputs": [],
   "source": [
    "from huggingface_hub import login\n",
    "login(token='YOUR_HUGGINGFACE_TOKEN')"
   ]
  },
  {
   "cell_type": "code",
   "execution_count": null,
   "id": "f0ad3b1b",
   "metadata": {},
   "outputs": [],
   "source": [
    "from diffusers import StableDiffusionPipeline\n",
    "from peft import LoraConfig, get_peft_model, TaskType\n",
    "\n",
    "# ベースモデルと LoRA 設定\n",
    "base_model = 'runwayml/stable-diffusion-v1-5'\n",
    "pipe = StableDiffusionPipeline.from_pretrained(base_model, use_auth_token=True)\n",
    "peft_config = LoraConfig(\n",
    "    task_type=TaskType.TEXT_TO_IMAGE,\n",
    "    inference_mode=False,\n",
    "    r=8,\n",
    "    lora_alpha=32,\n",
    "    lora_dropout=0.1,\n",
    ")\n",
    "lora_model = get_peft_model(pipe.unet, peft_config)"
   ]
  },
  {
   "cell_type": "code",
   "execution_count": null,
   "id": "ea29703e",
   "metadata": {},
   "outputs": [],
   "source": [
    "from transformers import TrainingArguments\n",
    "\n",
    "training_args = TrainingArguments(\n",
    "    output_dir='/content/drive/MyDrive/LoRA/checkpoints',\n",
    "    per_device_train_batch_size=1,\n",
    "    gradient_accumulation_steps=4,\n",
    "    max_train_steps=200,\n",
    "    learning_rate=1e-4,\n",
    "    save_steps=50,\n",
    ")"
   ]
  },
  {
   "cell_type": "code",
   "execution_count": null,
   "id": "00f3ee41",
   "metadata": {},
   "outputs": [],
   "source": [
    "# データセット読み込み例\n",
    "from torchvision import datasets, transforms\n",
    "\n",
    "dataset = datasets.ImageFolder(\n",
    "    '/content/drive/MyDrive/LoRA/dataset',\n",
    "    transform=transforms.Compose([\n",
    "        transforms.Resize((512,512)),\n",
    "        transforms.ToTensor(),\n",
    "    ])\n",
    ")"
   ]
  },
  {
   "cell_type": "code",
   "execution_count": null,
   "id": "d64cff5b",
   "metadata": {},
   "outputs": [],
   "source": [
    "from transformers import Trainer\n",
    "\n",
    "trainer = Trainer(\n",
    "    model=lora_model,\n",
    "    args=training_args,\n",
    "    train_dataset=dataset,\n",
    ")\n",
    "trainer.train()"
   ]
  },
  {
   "cell_type": "code",
   "execution_count": null,
   "id": "ece82eee",
   "metadata": {},
   "outputs": [],
   "source": [
    "# LoRA 重みの保存\n",
    "lora_model.save_pretrained('/content/drive/MyDrive/LoRA/output')"
   ]
  },
  {
   "cell_type": "code",
   "execution_count": null,
   "id": "3f71b6c0",
   "metadata": {},
   "outputs": [],
   "source": [
    "# 推論テスト\n",
    "pipe.unet.load_attn_procs('/content/drive/MyDrive/LoRA/output')\n",
    "image = pipe('your prompt here').images[0]\n",
    "image.save('/content/drive/MyDrive/LoRA/sample.png')"
   ]
  }
 ],
 "metadata": {},
 "nbformat": 4,
 "nbformat_minor": 5
}
